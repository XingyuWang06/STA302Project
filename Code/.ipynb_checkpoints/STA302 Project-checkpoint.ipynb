{
 "cells": [
  {
   "cell_type": "markdown",
   "id": "46b288e5-3a97-49b2-a96c-b9ba75eb049b",
   "metadata": {},
   "source": [
    "# How do geographical location, housing characteristics, demographics, and income levels affect the house value in California?"
   ]
  },
  {
   "cell_type": "code",
   "execution_count": 3,
   "id": "3677af1d-5f1a-46ee-8b6c-5c4cd71c833c",
   "metadata": {},
   "outputs": [],
   "source": [
    "import pandas as pd\n",
    "import os"
   ]
  },
  {
   "cell_type": "code",
   "execution_count": 4,
   "id": "e49cf508-2679-4208-80fc-f0e3ef15f1a9",
   "metadata": {},
   "outputs": [],
   "source": [
    "relative_path = os.path.join('..', 'Data', 'housing.csv')\n",
    "abs_path = os.path.abspath(relative_path)\n",
    "\n",
    "# Read the CSV file\n",
    "housing_price = pd.read_csv(abs_path)"
   ]
  },
  {
   "cell_type": "code",
   "execution_count": 5,
   "id": "8af31f32-9da5-417c-8f7b-cf3be553dbc0",
   "metadata": {},
   "outputs": [
    {
     "data": {
      "text/plain": [
       "(20640, 10)"
      ]
     },
     "execution_count": 5,
     "metadata": {},
     "output_type": "execute_result"
    }
   ],
   "source": [
    "housing_price.shape"
   ]
  },
  {
   "cell_type": "code",
   "execution_count": 6,
   "id": "7f6d7ccc-d116-405b-b594-b62a73f0b4e1",
   "metadata": {},
   "outputs": [
    {
     "data": {
      "text/plain": [
       "longitude             False\n",
       "latitude              False\n",
       "housing_median_age    False\n",
       "total_rooms           False\n",
       "total_bedrooms         True\n",
       "population            False\n",
       "households            False\n",
       "median_income         False\n",
       "median_house_value    False\n",
       "ocean_proximity       False\n",
       "dtype: bool"
      ]
     },
     "execution_count": 6,
     "metadata": {},
     "output_type": "execute_result"
    }
   ],
   "source": [
    "housing_price.isnull().any(axis=0)"
   ]
  },
  {
   "cell_type": "code",
   "execution_count": 7,
   "id": "fe05dc01-84d3-4696-9a25-474e50d37290",
   "metadata": {},
   "outputs": [],
   "source": [
    "# Drop missing value\n",
    "housing_price_clean = housing_price.dropna()"
   ]
  },
  {
   "cell_type": "code",
   "execution_count": 9,
   "id": "788a0667-39cd-4c62-b758-da0135a60fad",
   "metadata": {},
   "outputs": [
    {
     "data": {
      "text/plain": [
       "(20433, 10)"
      ]
     },
     "execution_count": 9,
     "metadata": {},
     "output_type": "execute_result"
    }
   ],
   "source": [
    "housing_price_clean.shape"
   ]
  }
 ],
 "metadata": {
  "kernelspec": {
   "display_name": "Python 3 (ipykernel)",
   "language": "python",
   "name": "python3"
  },
  "language_info": {
   "codemirror_mode": {
    "name": "ipython",
    "version": 3
   },
   "file_extension": ".py",
   "mimetype": "text/x-python",
   "name": "python",
   "nbconvert_exporter": "python",
   "pygments_lexer": "ipython3",
   "version": "3.11.7"
  }
 },
 "nbformat": 4,
 "nbformat_minor": 5
}
